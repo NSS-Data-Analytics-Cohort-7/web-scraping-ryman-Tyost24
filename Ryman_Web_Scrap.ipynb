{
 "cells": [
  {
   "cell_type": "code",
   "execution_count": null,
   "id": "7a85736a",
   "metadata": {},
   "outputs": [],
   "source": [
    "import requests"
   ]
  },
  {
   "cell_type": "code",
   "execution_count": null,
   "id": "62cdf1ea",
   "metadata": {},
   "outputs": [],
   "source": [
    "URL = 'https://ryman.com/events/'\n",
    "\n",
    "response = requests.get(URL)"
   ]
  },
  {
   "cell_type": "code",
   "execution_count": null,
   "id": "a2bdde01",
   "metadata": {},
   "outputs": [],
   "source": [
    "type(response)"
   ]
  },
  {
   "cell_type": "code",
   "execution_count": null,
   "id": "8250c805",
   "metadata": {},
   "outputs": [],
   "source": [
    "response.status_code"
   ]
  },
  {
   "cell_type": "code",
   "execution_count": null,
   "id": "fac12632",
   "metadata": {},
   "outputs": [],
   "source": [
    "response.text"
   ]
  },
  {
   "cell_type": "code",
   "execution_count": null,
   "id": "6754722b",
   "metadata": {},
   "outputs": [],
   "source": [
    "from bs4 import BeautifulSoup as BS"
   ]
  },
  {
   "cell_type": "code",
   "execution_count": null,
   "id": "5627453c",
   "metadata": {},
   "outputs": [],
   "source": [
    "artist = BS(response.text)"
   ]
  },
  {
   "cell_type": "code",
   "execution_count": null,
   "id": "766f1a01",
   "metadata": {},
   "outputs": [],
   "source": [
    "print(artist.prettify())"
   ]
  },
  {
   "cell_type": "code",
   "execution_count": null,
   "id": "18c1ee75",
   "metadata": {},
   "outputs": [],
   "source": [
    "artist.find('title')"
   ]
  },
  {
   "cell_type": "code",
   "execution_count": null,
   "id": "edd6366b",
   "metadata": {},
   "outputs": [],
   "source": [
    "type(artist.find('title'))"
   ]
  },
  {
   "cell_type": "code",
   "execution_count": null,
   "id": "7520cb40",
   "metadata": {},
   "outputs": [],
   "source": [
    "artist.find('title').text"
   ]
  },
  {
   "cell_type": "code",
   "execution_count": null,
   "id": "c6407a0e",
   "metadata": {},
   "outputs": [],
   "source": []
  }
 ],
 "metadata": {
  "kernelspec": {
   "display_name": "Python 3 (ipykernel)",
   "language": "python",
   "name": "python3"
  },
  "language_info": {
   "codemirror_mode": {
    "name": "ipython",
    "version": 3
   },
   "file_extension": ".py",
   "mimetype": "text/x-python",
   "name": "python",
   "nbconvert_exporter": "python",
   "pygments_lexer": "ipython3",
   "version": "3.9.7"
  }
 },
 "nbformat": 4,
 "nbformat_minor": 5
}
