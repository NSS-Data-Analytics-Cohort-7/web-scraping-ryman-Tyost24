{
 "cells": [
  {
   "cell_type": "code",
   "execution_count": null,
   "id": "a0cfc511",
   "metadata": {},
   "outputs": [],
   "source": [
    "import requests"
   ]
  },
  {
   "cell_type": "markdown",
   "id": "dad9cf0d",
   "metadata": {},
   "source": [
    "#### 1: Start by using either the inspector or by viewing the page source. Can you identify a tag that might be helpful for finding the names of all performers? For now, just worry about the headliner and don't worry about the opener. (Eg. For Vince Gill, featuring Wendy Moten, we only care about Vince Gill.) Make use of this to create a list containing just the names of each headliner"
   ]
  },
  {
   "cell_type": "code",
   "execution_count": null,
   "id": "39d1be87",
   "metadata": {},
   "outputs": [],
   "source": [
    "URL = 'https://ryman.com/events/'\n",
    "\n",
    "response = requests.get(URL)"
   ]
  },
  {
   "cell_type": "code",
   "execution_count": null,
   "id": "9937291a",
   "metadata": {},
   "outputs": [],
   "source": [
    "type(response)"
   ]
  },
  {
   "cell_type": "code",
   "execution_count": null,
   "id": "f7112fb3",
   "metadata": {},
   "outputs": [],
   "source": [
    "response.status_code"
   ]
  },
  {
   "cell_type": "code",
   "execution_count": null,
   "id": "402cd8e0",
   "metadata": {},
   "outputs": [],
   "source": [
    "response.text"
   ]
  },
  {
   "cell_type": "code",
   "execution_count": null,
   "id": "662e1bdf",
   "metadata": {},
   "outputs": [],
   "source": [
    "from bs4 import BeautifulSoup as BS"
   ]
  },
  {
   "cell_type": "code",
   "execution_count": null,
   "id": "f7c268f9",
   "metadata": {},
   "outputs": [],
   "source": [
    "artist = BS(response.text)"
   ]
  },
  {
   "cell_type": "code",
   "execution_count": null,
   "id": "f4b72833",
   "metadata": {},
   "outputs": [],
   "source": [
    "print(artist.prettify())"
   ]
  },
  {
   "cell_type": "code",
   "execution_count": null,
   "id": "4cdcde00",
   "metadata": {},
   "outputs": [],
   "source": [
    "artist.find('title')"
   ]
  },
  {
   "cell_type": "code",
   "execution_count": null,
   "id": "4a628532",
   "metadata": {},
   "outputs": [],
   "source": [
    "type(artist.find('title'))"
   ]
  },
  {
   "cell_type": "code",
   "execution_count": null,
   "id": "76b5d790",
   "metadata": {},
   "outputs": [],
   "source": [
    "artist.find('h2').text"
   ]
  },
  {
   "cell_type": "code",
   "execution_count": null,
   "id": "a88cf8dc",
   "metadata": {},
   "outputs": [],
   "source": [
    "names = artist.findAll(attrs={'class': 'tribe-event-url'})\n",
    "print(type(names)\n",
    "names"
   ]
  },
  {
   "cell_type": "code",
   "execution_count": null,
   "id": "cff751fb",
   "metadata": {},
   "outputs": [],
   "source": [
    " a1 = [x.get('title') for x in names]"
   ]
  },
  {
   "cell_type": "code",
   "execution_count": null,
   "id": "dc8b29ed",
   "metadata": {},
   "outputs": [],
   "source": [
    "a1"
   ]
  },
  {
   "cell_type": "markdown",
   "id": "e2a817ef",
   "metadata": {},
   "source": [
    "### Q1: 'a'  was the tag to find all the performers"
   ]
  },
  {
   "cell_type": "markdown",
   "id": "2d90f3a6",
   "metadata": {},
   "source": [
    "#### 2: Next, try and find a tag that could be used to find the date and time for each show. Extract these into two lists, one containing the date and the other containing the time. (Eg. THURSDAY, AUGUST 4, 2022 AT 8:00 PM CDT should be split into August 4, 2022 and 8:00 PM CDT.)"
   ]
  },
  {
   "cell_type": "code",
   "execution_count": null,
   "id": "05ac7d02",
   "metadata": {},
   "outputs": [],
   "source": [
    "artist.find('time').text"
   ]
  },
  {
   "cell_type": "code",
   "execution_count": null,
   "id": "83d45f30",
   "metadata": {},
   "outputs": [],
   "source": [
    "for i in artist.findAll('time'):\n",
    "        if i.has_attr('datetime'):\n",
    "            print(i['datetime'])"
   ]
  },
  {
   "cell_type": "code",
   "execution_count": null,
   "id": "317f5ae0",
   "metadata": {},
   "outputs": [],
   "source": []
  }
 ],
 "metadata": {
  "kernelspec": {
   "display_name": "Python 3 (ipykernel)",
   "language": "python",
   "name": "python3"
  },
  "language_info": {
   "codemirror_mode": {
    "name": "ipython",
    "version": 3
   },
   "file_extension": ".py",
   "mimetype": "text/x-python",
   "name": "python",
   "nbconvert_exporter": "python",
   "pygments_lexer": "ipython3",
   "version": "3.9.7"
  }
 },
 "nbformat": 4,
 "nbformat_minor": 5
}
