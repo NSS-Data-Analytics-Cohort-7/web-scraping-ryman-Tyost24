{
 "cells": [
  {
   "cell_type": "code",
   "execution_count": null,
   "id": "4cd65428",
   "metadata": {},
   "outputs": [],
   "source": [
    "import requests\n",
    "import pandas as p"
   ]
  },
  {
   "cell_type": "markdown",
   "id": "cc4fe79f",
   "metadata": {},
   "source": [
    "#### 1: Start by using either the inspector or by viewing the page source. Can you identify a tag that might be helpful for finding the names of all performers? For now, just worry about the headliner and don't worry about the opener. (Eg. For Vince Gill, featuring Wendy Moten, we only care about Vince Gill.) Make use of this to create a list containing just the names of each headliner"
   ]
  },
  {
   "cell_type": "code",
   "execution_count": null,
   "id": "f4f8c2e3",
   "metadata": {},
   "outputs": [],
   "source": [
    "URL = 'https://ryman.com/events/'\n",
    "\n",
    "response = requests.get(URL)"
   ]
  },
  {
   "cell_type": "code",
   "execution_count": null,
   "id": "357ffd9c",
   "metadata": {},
   "outputs": [],
   "source": [
    "type(response)"
   ]
  },
  {
   "cell_type": "code",
   "execution_count": null,
   "id": "bae71a05",
   "metadata": {},
   "outputs": [],
   "source": [
    "response.status_code"
   ]
  },
  {
   "cell_type": "code",
   "execution_count": null,
   "id": "bad73717",
   "metadata": {},
   "outputs": [],
   "source": [
    "response.text"
   ]
  },
  {
   "cell_type": "code",
   "execution_count": null,
   "id": "b1b731a8",
   "metadata": {},
   "outputs": [],
   "source": [
    "from bs4 import BeautifulSoup as BS"
   ]
  },
  {
   "cell_type": "code",
   "execution_count": null,
   "id": "848a12db",
   "metadata": {},
   "outputs": [],
   "source": [
    "artist = BS(response.text)"
   ]
  },
  {
   "cell_type": "code",
   "execution_count": null,
   "id": "d721b866",
   "metadata": {},
   "outputs": [],
   "source": [
    "print(artist.prettify())"
   ]
  },
  {
   "cell_type": "code",
   "execution_count": null,
   "id": "f3ce2454",
   "metadata": {},
   "outputs": [],
   "source": [
    "artist.find('title')"
   ]
  },
  {
   "cell_type": "code",
   "execution_count": null,
   "id": "cbe42071",
   "metadata": {},
   "outputs": [],
   "source": [
    "type(artist.find('title'))"
   ]
  },
  {
   "cell_type": "code",
   "execution_count": null,
   "id": "53b5cc84",
   "metadata": {},
   "outputs": [],
   "source": [
    "artist.find('h2').text"
   ]
  },
  {
   "cell_type": "code",
   "execution_count": null,
   "id": "46d29173",
   "metadata": {},
   "outputs": [],
   "source": [
    "names = artist.findAll(attrs={'class': 'tribe-event-url'})\n",
    "print(type(names))\n",
    "names"
   ]
  },
  {
   "cell_type": "code",
   "execution_count": null,
   "id": "c3c0e61f",
   "metadata": {},
   "outputs": [],
   "source": [
    " a1 = [x.get('title') for x in names]"
   ]
  },
  {
   "cell_type": "code",
   "execution_count": null,
   "id": "2402042f",
   "metadata": {},
   "outputs": [],
   "source": [
    "a1"
   ]
  },
  {
   "cell_type": "markdown",
   "id": "20f4b03d",
   "metadata": {},
   "source": [
    "### Q1: 'a'  was the tag to find all the performers"
   ]
  },
  {
   "cell_type": "markdown",
   "id": "c0be50bb",
   "metadata": {},
   "source": [
    "#### 2: Next, try and find a tag that could be used to find the date and time for each show. Extract these into two lists, one containing the date and the other containing the time. (Eg. THURSDAY, AUGUST 4, 2022 AT 8:00 PM CDT should be split into August 4, 2022 and 8:00 PM CDT.)"
   ]
  },
  {
   "cell_type": "code",
   "execution_count": null,
   "id": "7d499c72",
   "metadata": {},
   "outputs": [],
   "source": [
    "artist.find('time').text"
   ]
  },
  {
   "cell_type": "code",
   "execution_count": null,
   "id": "d92dea25",
   "metadata": {},
   "outputs": [],
   "source": [
    "for i in artist.findAll('time'):\n",
    "        if i.has_attr('datetime'):\n",
    "            print(i)"
   ]
  },
  {
   "cell_type": "code",
   "execution_count": null,
   "id": "5aac2271",
   "metadata": {},
   "outputs": [],
   "source": [
    "date1 = artist.findAll(attrs={'datetime': '2022-10-27 07:30:00 CDT'})\n",
    "print(type(date1))\n",
    "date1"
   ]
  },
  {
   "cell_type": "code",
   "execution_count": null,
   "id": "4a49be1e",
   "metadata": {},
   "outputs": [],
   "source": [
    "date2 = artist.findAll('time')\n",
    "print(type(date2))\n",
    "date2"
   ]
  },
  {
   "cell_type": "code",
   "execution_count": null,
   "id": "867bb66e",
   "metadata": {},
   "outputs": [],
   "source": [
    "artist.find('time').text"
   ]
  },
  {
   "cell_type": "code",
   "execution_count": null,
   "id": "6ebcb71a",
   "metadata": {},
   "outputs": [],
   "source": [
    "date3 = [x.get_text(strip=True) for x in date2]\n",
    "date3"
   ]
  },
  {
   "cell_type": "code",
   "execution_count": null,
   "id": "aa43d4f6",
   "metadata": {},
   "outputs": [],
   "source": [
    "type(date3)"
   ]
  },
  {
   "cell_type": "code",
   "execution_count": null,
   "id": "50a784d9",
   "metadata": {
    "scrolled": true
   },
   "outputs": [],
   "source": [
    "date4 = p.DataFrame({'Date':date3})\n",
    "date4"
   ]
  },
  {
   "cell_type": "code",
   "execution_count": null,
   "id": "0a16d3f7",
   "metadata": {},
   "outputs": [],
   "source": [
    "a2 = p.DataFrame({'Names':a1})\n",
    "a2"
   ]
  },
  {
   "cell_type": "code",
   "execution_count": null,
   "id": "06ec64ff",
   "metadata": {},
   "outputs": [],
   "source": [
    "date5 = date4[\"Date\"].str.split(\" at \", n = 1, expand = True)\n",
    "date5"
   ]
  },
  {
   "cell_type": "code",
   "execution_count": null,
   "id": "7218a5c3",
   "metadata": {},
   "outputs": [],
   "source": [
    "\n",
    "name_date = p.DataFrame (list_name, columns = ['Name'])"
   ]
  }
 ],
 "metadata": {
  "kernelspec": {
   "display_name": "Python 3 (ipykernel)",
   "language": "python",
   "name": "python3"
  },
  "language_info": {
   "codemirror_mode": {
    "name": "ipython",
    "version": 3
   },
   "file_extension": ".py",
   "mimetype": "text/x-python",
   "name": "python",
   "nbconvert_exporter": "python",
   "pygments_lexer": "ipython3",
   "version": "3.9.7"
  }
 },
 "nbformat": 4,
 "nbformat_minor": 5
}
