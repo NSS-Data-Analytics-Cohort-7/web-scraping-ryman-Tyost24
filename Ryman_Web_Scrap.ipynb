{
 "cells": [
  {
   "cell_type": "code",
   "execution_count": null,
   "id": "d21c198a",
   "metadata": {},
   "outputs": [],
   "source": [
    "import requests"
   ]
  },
  {
   "cell_type": "code",
   "execution_count": null,
   "id": "1e3fdc23",
   "metadata": {},
   "outputs": [],
   "source": [
    "URL = 'https://ryman.com/events/'\n",
    "\n",
    "response = requests.get(URL)"
   ]
  },
  {
   "cell_type": "code",
   "execution_count": null,
   "id": "ba0772fe",
   "metadata": {},
   "outputs": [],
   "source": [
    "type(response)"
   ]
  },
  {
   "cell_type": "code",
   "execution_count": null,
   "id": "fb087672",
   "metadata": {},
   "outputs": [],
   "source": [
    "response.status_code"
   ]
  },
  {
   "cell_type": "code",
   "execution_count": null,
   "id": "0e4d47b6",
   "metadata": {},
   "outputs": [],
   "source": [
    "response.text"
   ]
  },
  {
   "cell_type": "code",
   "execution_count": null,
   "id": "39df5c44",
   "metadata": {},
   "outputs": [],
   "source": [
    "from bs4 import BeautifulSoup as BS"
   ]
  },
  {
   "cell_type": "code",
   "execution_count": null,
   "id": "07fd3939",
   "metadata": {},
   "outputs": [],
   "source": [
    "artist = BS(response.text)"
   ]
  },
  {
   "cell_type": "code",
   "execution_count": null,
   "id": "b026ac7e",
   "metadata": {},
   "outputs": [],
   "source": [
    "print(artist.prettify())"
   ]
  },
  {
   "cell_type": "code",
   "execution_count": null,
   "id": "d1217409",
   "metadata": {},
   "outputs": [],
   "source": [
    "artist.find('title')"
   ]
  },
  {
   "cell_type": "code",
   "execution_count": null,
   "id": "6ccb6f34",
   "metadata": {},
   "outputs": [],
   "source": [
    "type(artist.find('title'))"
   ]
  },
  {
   "cell_type": "code",
   "execution_count": null,
   "id": "a638481d",
   "metadata": {},
   "outputs": [],
   "source": [
    "artist.find('h2').text"
   ]
  },
  {
   "cell_type": "code",
   "execution_count": null,
   "id": "dc63abf6",
   "metadata": {},
   "outputs": [],
   "source": [
    "names = artist.findAll(attrs={'class': 'tribe-event-url'})\n",
    "print(type(names))\n",
    "names"
   ]
  },
  {
   "cell_type": "code",
   "execution_count": null,
   "id": "e2c57995",
   "metadata": {},
   "outputs": [],
   "source": [
    " a1 = [x.get('title') for x in names]"
   ]
  },
  {
   "cell_type": "code",
   "execution_count": null,
   "id": "d92e4109",
   "metadata": {},
   "outputs": [],
   "source": [
    "a1"
   ]
  },
  {
   "cell_type": "markdown",
   "id": "9ca0a3ec",
   "metadata": {},
   "source": [
    "### Q1: 'a'  was the tag to find all the performers"
   ]
  },
  {
   "cell_type": "code",
   "execution_count": null,
   "id": "d56ab4f6",
   "metadata": {},
   "outputs": [],
   "source": []
  }
 ],
 "metadata": {
  "kernelspec": {
   "display_name": "Python 3 (ipykernel)",
   "language": "python",
   "name": "python3"
  },
  "language_info": {
   "codemirror_mode": {
    "name": "ipython",
    "version": 3
   },
   "file_extension": ".py",
   "mimetype": "text/x-python",
   "name": "python",
   "nbconvert_exporter": "python",
   "pygments_lexer": "ipython3",
   "version": "3.9.7"
  }
 },
 "nbformat": 4,
 "nbformat_minor": 5
}
